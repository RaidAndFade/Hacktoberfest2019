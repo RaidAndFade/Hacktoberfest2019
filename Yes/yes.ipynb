yes = True
while (yes):
  print("yes")
